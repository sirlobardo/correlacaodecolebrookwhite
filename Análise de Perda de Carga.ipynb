{
 "cells": [
  {
   "cell_type": "code",
   "execution_count": 27,
   "id": "f9730802-53d0-458a-9eda-66d8ed83a4a4",
   "metadata": {
    "tags": []
   },
   "outputs": [],
   "source": [
    "from math import pow, log, sqrt"
   ]
  },
  {
   "cell_type": "code",
   "execution_count": 61,
   "id": "9584491f-973e-4509-bd44-232cd870c690",
   "metadata": {
    "tags": []
   },
   "outputs": [],
   "source": [
    "e = 0.007*pow(10,-3)\n",
    "D = 5.08*pow(10,-2)\n",
    "ro = pow(10,3)\n",
    "v = 0.97\n",
    "mi = 0.6531*pow(10,-3)\n",
    "erro = 0.00000001"
   ]
  },
  {
   "cell_type": "code",
   "execution_count": 46,
   "id": "295c1279-09fd-47bf-a538-88f4c07b479f",
   "metadata": {
    "tags": []
   },
   "outputs": [
    {
     "name": "stdout",
     "output_type": "stream",
     "text": [
      "Número de Reynolds = 7.544940e+04\n"
     ]
    }
   ],
   "source": [
    "re = (ro*v*D) / mi\n",
    "print(\"Número de Reynolds = {:e}\".format(re))"
   ]
  },
  {
   "cell_type": "code",
   "execution_count": 62,
   "id": "21eda993-8d44-4fdf-b8c6-986bc38c6816",
   "metadata": {
    "tags": []
   },
   "outputs": [
    {
     "name": "stdout",
     "output_type": "stream",
     "text": [
      "Fator de atrito = 3.522290e-01\n"
     ]
    }
   ],
   "source": [
    "if re < 2300:\n",
    "    f = 64 / re\n",
    "else:\n",
    "    f0 = 0.25 * pow(log((e / (D * 3.7)) + (5.74 / pow(re, 0.9)), 10), -2)\n",
    "    f = 1 / sqrt(-2 * log((e / (D * 3.7)) + (2.51 / (re * sqrt(f0))), 10))\n",
    "    while (abs(f - f0) / f) > erro:\n",
    "        f0 = f\n",
    "        f = 1 / sqrt(-2 * log((e / (D * 3.7)) + (2.51 / (re * sqrt(f0))), 10))\n",
    "print(\"Fator de atrito = {:e}\".format(f))"
   ]
  },
  {
   "cell_type": "code",
   "execution_count": null,
   "id": "62b9bccb-51aa-4109-b92a-dd14224e93ad",
   "metadata": {},
   "outputs": [],
   "source": []
  }
 ],
 "metadata": {
  "kernelspec": {
   "display_name": "Python 3 (ipykernel)",
   "language": "python",
   "name": "python3"
  },
  "language_info": {
   "codemirror_mode": {
    "name": "ipython",
    "version": 3
   },
   "file_extension": ".py",
   "mimetype": "text/x-python",
   "name": "python",
   "nbconvert_exporter": "python",
   "pygments_lexer": "ipython3",
   "version": "3.11.3"
  }
 },
 "nbformat": 4,
 "nbformat_minor": 5
}
