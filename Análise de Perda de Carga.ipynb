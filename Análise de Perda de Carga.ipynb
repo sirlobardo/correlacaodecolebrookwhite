{
 "cells": [
  {
   "cell_type": "markdown",
   "id": "8c2602ad-f0ba-4f32-a86f-e243614b6115",
   "metadata": {
    "tags": []
   },
   "source": [
    "# Análise de perda de carga ao longo de uma instalação de recalque\n",
    "\n",
    "## Sistema de Recalque\n",
    "\n",
    "O sistema de recalque ou de adução é um sistema posicionado após uma bomba sucção que bombeia o fluido de um lugar inferior para um superior. É muito utilizado em residencias, prédios, industria e setor agrícola.\n",
    "\n",
    "### Exemplo de uma instalação de recalque\n",
    "![Alt text](./img/sistema_de_recalque.png)\n",
    "\n",
    "Fonte: João Carlos Barros Almeida da Silva\n",
    "\n",
    "### Perdas localizadas e distribuidas"
   ]
  },
  {
   "cell_type": "code",
   "execution_count": 88,
   "id": "552bf75c-9908-45d4-a585-8bebf86a9e09",
   "metadata": {
    "tags": []
   },
   "outputs": [
    {
     "data": {
      "text/html": [
       "<div>\n",
       "<style scoped>\n",
       "    .dataframe tbody tr th:only-of-type {\n",
       "        vertical-align: middle;\n",
       "    }\n",
       "\n",
       "    .dataframe tbody tr th {\n",
       "        vertical-align: top;\n",
       "    }\n",
       "\n",
       "    .dataframe thead th {\n",
       "        text-align: right;\n",
       "    }\n",
       "</style>\n",
       "<table border=\"1\" class=\"dataframe\">\n",
       "  <thead>\n",
       "    <tr style=\"text-align: right;\">\n",
       "      <th></th>\n",
       "      <th>Nome</th>\n",
       "      <th>Quantidade</th>\n",
       "      <th>Coeficiente de perda localizada (K)</th>\n",
       "      <th>Perda localizada (h)</th>\n",
       "    </tr>\n",
       "  </thead>\n",
       "  <tbody>\n",
       "    <tr>\n",
       "      <th>0</th>\n",
       "      <td>Curva de 90°</td>\n",
       "      <td>5</td>\n",
       "      <td>0.40</td>\n",
       "      <td>15242.33</td>\n",
       "    </tr>\n",
       "    <tr>\n",
       "      <th>1</th>\n",
       "      <td>Válvula de retenção</td>\n",
       "      <td>2</td>\n",
       "      <td>2.50</td>\n",
       "      <td>38105.83</td>\n",
       "    </tr>\n",
       "    <tr>\n",
       "      <th>2</th>\n",
       "      <td>Curva de 45°</td>\n",
       "      <td>9</td>\n",
       "      <td>0.20</td>\n",
       "      <td>13718.10</td>\n",
       "    </tr>\n",
       "    <tr>\n",
       "      <th>3</th>\n",
       "      <td>Registro de gaveta</td>\n",
       "      <td>3</td>\n",
       "      <td>0.20</td>\n",
       "      <td>4572.70</td>\n",
       "    </tr>\n",
       "    <tr>\n",
       "      <th>4</th>\n",
       "      <td>Válvula de pé</td>\n",
       "      <td>1</td>\n",
       "      <td>1.75</td>\n",
       "      <td>13337.04</td>\n",
       "    </tr>\n",
       "  </tbody>\n",
       "</table>\n",
       "</div>"
      ],
      "text/plain": [
       "                  Nome  Quantidade  Coeficiente de perda localizada (K)  \\\n",
       "0         Curva de 90°           5                                 0.40   \n",
       "1  Válvula de retenção           2                                 2.50   \n",
       "2         Curva de 45°           9                                 0.20   \n",
       "3   Registro de gaveta           3                                 0.20   \n",
       "4        Válvula de pé           1                                 1.75   \n",
       "\n",
       "   Perda localizada (h)  \n",
       "0              15242.33  \n",
       "1              38105.83  \n",
       "2              13718.10  \n",
       "3               4572.70  \n",
       "4              13337.04  "
      ]
     },
     "execution_count": 88,
     "metadata": {},
     "output_type": "execute_result"
    }
   ],
   "source": [
    "from math import pow, pi, sqrt\n",
    "import pandas as pd\n",
    "\n",
    "# Constantes\n",
    "g = 9.81\n",
    "D = 0.090\n",
    "mi = 0.7978*pow(10,-3)\n",
    "ro = pow(10,3)\n",
    "e = 0.009*pow(10,-3)\n",
    "\n",
    "# Calculo da velocidade\n",
    "v = (2.46 * 4) / (pi * pow(D, 2))\n",
    "\n",
    "# Data for the Series objects\n",
    "data = {\n",
    "    'Nome': ['Curva de 90°', 'Válvula de retenção', 'Curva de 45°', 'Registro de gaveta', 'Válvula de pé'],\n",
    "    'Quantidade': [5, 2, 9, 3, 1],\n",
    "    'Coeficiente de perda localizada (K)': [0.4, 2.5, 0.2, 0.2, 1.75],\n",
    "    'Perda localizada (h)': []\n",
    "}\n",
    "\n",
    "# Calculate the 'Perda localizada (h)' values\n",
    "for i in range(len(data['Nome'])):\n",
    "    perda_localizada = (data['Quantidade'][i] * data['Coeficiente de perda localizada (K)'][i] * pow(v, 2)) / (2 * g)\n",
    "    data['Perda localizada (h)'].append(perda_localizada)\n",
    "\n",
    "# Create the DataFrame\n",
    "df = pd.DataFrame(data)\n",
    "\n",
    "# Format the last column with two decimal places\n",
    "df['Perda localizada (h)'] = df['Perda localizada (h)'].map(lambda x: round(x, 2))\n",
    "\n",
    "# Output the DataFrame\n",
    "df\n"
   ]
  },
  {
   "cell_type": "code",
   "execution_count": 95,
   "id": "9584491f-973e-4509-bd44-232cd870c690",
   "metadata": {
    "tags": []
   },
   "outputs": [],
   "source": [
    "erro = 0.000001"
   ]
  },
  {
   "cell_type": "code",
   "execution_count": 97,
   "id": "295c1279-09fd-47bf-a538-88f4c07b479f",
   "metadata": {
    "tags": []
   },
   "outputs": [
    {
     "name": "stdout",
     "output_type": "stream",
     "text": [
      "Número de Reynolds = 43622312.4710802\n"
     ]
    }
   ],
   "source": [
    "re = (ro*v*D) / mi\n",
    "print(f\"Número de Reynolds = {re:.2e}\")\n"
   ]
  },
  {
   "cell_type": "code",
   "execution_count": 99,
   "id": "62b9bccb-51aa-4109-b92a-dd14224e93ad",
   "metadata": {},
   "outputs": [
    {
     "name": "stdout",
     "output_type": "stream",
     "text": [
      "0.012023718505045786\n"
     ]
    }
   ],
   "source": [
    "def colebrook_white(e, D, Re):\n",
    "    f = 0.25 * pow(log((e / (D * 3.7)) + (5.74 / pow(re, 0.9)), 10), -2)  # Valor inicial para f\n",
    "    delta = 1  # Valor inicial para a diferença entre f atual e f anterior\n",
    "\n",
    "    while delta > erro:  # Precisão desejada para o resultado\n",
    "        x = -2*log((e / (3.7 * D)) + (2.51 / (Re * sqrt(f))),10)\n",
    "        f_new = 1 / (x ** 2)  # Novo valor de f\n",
    "\n",
    "        delta = abs(f - f_new)  # Calcula a diferença entre f atual e f anterior\n",
    "        f = f_new  # Atualiza o valor de f\n",
    "\n",
    "    return f\n",
    "print(colebrook_white(e, D, re))"
   ]
  },
  {
   "cell_type": "code",
   "execution_count": null,
   "id": "f29fce09-83a6-42f8-b29b-4cd571d7eac3",
   "metadata": {},
   "outputs": [],
   "source": []
  }
 ],
 "metadata": {
  "kernelspec": {
   "display_name": "Python 3 (ipykernel)",
   "language": "python",
   "name": "python3"
  },
  "language_info": {
   "codemirror_mode": {
    "name": "ipython",
    "version": 3
   },
   "file_extension": ".py",
   "mimetype": "text/x-python",
   "name": "python",
   "nbconvert_exporter": "python",
   "pygments_lexer": "ipython3",
   "version": "3.11.3"
  }
 },
 "nbformat": 4,
 "nbformat_minor": 5
}
